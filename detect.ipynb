!python detect.py --weights '/content/drive/MyDrive/ASL_YOLOV5/best.pt' --img 416 --conf 0.3 --source '/content/drive/MyDrive/ASL_YOLOV5/k.jpeg'
